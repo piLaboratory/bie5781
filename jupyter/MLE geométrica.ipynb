{
 "cells": [
  {
   "cell_type": "markdown",
   "metadata": {},
   "source": [
    "# Estimador de máxima verossimilhança da distribuição geométrica\n",
    "A distribuição geométrica é um modelo simples de ser ajustado a dados porque há uma expressão para o estimador de máxima verossimilhança (**MLE**) de seu parâmetro:\n",
    "\n",
    "$$\\widehat p \\ = \\ \\frac{N}{N+\\sum x_i}$$\n",
    "\n",
    "Onde $N$ é o total de observações e $\\sum x_i$ é a soma dos valores observados. \n",
    "\n",
    "Como chegamos a isso? Neste caso por meio de manipulações matemáticas. Quando isso nos leva a uma expressão de funções matemáticas conhecidas dizemos que temos uma **solução analítica** . Isso é bem raro, em geral apenas para casos simples. \n",
    "\n",
    "Para ter uma ideia mais concreta deste processo, vamos refazer passo a passo a dedução analítica do mle da geométrica, com o auxílio de um sistema de álgebra simbólica, usando a linguagem Python. Esses sistemas são programas que guardam muitas regras de manipulação de objetos matemáticos. Com ele podemos conferir passo a passo a deduções matemáticas, mesmo sem lembrar de todos detalhes necessários em cada passagem da dedução.\n",
    "\n",
    "Este tutorial está em notebook do Jupyter, executado online pelo Google Colab.  Para ver os resultados dos comandos de cada etapa coloque o mouse ao lado esquerdo da célula que tem os comandos e clique em 'Run this cell'\n",
    "\n",
    "## Preparação\n",
    "Antes de começar importamos a biblioteca de matemática simbólica do Python. Ela permite criar expressões, como funções e suas derivadas, e manipulá-las simbolicamente."
   ]
  },
  {
   "cell_type": "code",
   "execution_count": 8,
   "metadata": {},
   "outputs": [],
   "source": [
    "from sympy import *\n",
    "init_printing()"
   ]
  },
  {
   "cell_type": "markdown",
   "metadata": {},
   "source": [
    "## A função de densidade probabilística\n",
    "O comando abaixo cria um objeto simbólico `f` com a expressão  função da densidade da geométrica.  Para uma dada observação $x_i$ a função de massa da distribuição geométrica é"
   ]
  },
  {
   "cell_type": "code",
   "execution_count": 9,
   "metadata": {},
   "outputs": [
    {
     "data": {
      "image/png": "[encoded data removed]",
      "text/latex": [
       "$\\displaystyle p \\left(1 - p\\right)^{{x}_{i}}$"
      ],
      "text/plain": [
       "         x[i]\n",
       "p⋅(1 - p)    "
      ]
     },
     "execution_count": 9,
     "metadata": {},
     "output_type": "execute_result"
    }
   ],
   "source": [
    "## Define os símbolos que usaremos e sua representação\n",
    "x, p, i, n = symbols('x p i n')\n",
    "## Define objeto com a expressão\n",
    "f = p*(1-p)**(Indexed(x,i))\n",
    "## Exibe o objeto\n",
    "f"
   ]
  },
  {
   "cell_type": "markdown",
   "metadata": {},
   "source": [
    "## Defina a função de log-verossimilhança negativa\n",
    "A função de log-verossimilhança da geométrica é a soma dos logarítimos dos valores da função acima sobre todos os valores dos dados ($x_i$). Para chegar à sua expressão, primeiro calculamos o logarítmo da função de massa, e guardamos a expressão resultante no objeto `lf`:"
   ]
  },
  {
   "cell_type": "code",
   "execution_count": 10,
   "metadata": {},
   "outputs": [
    {
     "data": {
      "image/png": "[encoded data removed]",
      "text/latex": [
       "$\\displaystyle \\log{\\left(p \\right)} + \\log{\\left(1 - p \\right)} {x}_{i}$"
      ],
      "text/plain": [
       "log(p) + log(1 - p)⋅x[i]"
      ]
     },
     "execution_count": 10,
     "metadata": {},
     "output_type": "execute_result"
    }
   ],
   "source": [
    "lf = ln(f)\n",
    "lf=expand_log(lf, force=true)\n",
    "lf"
   ]
  },
  {
   "cell_type": "markdown",
   "metadata": {},
   "source": [
    "e em seguida definimos a sua soma sobre todos os valores de $x_i$"
   ]
  },
  {
   "cell_type": "code",
   "execution_count": 11,
   "metadata": {},
   "outputs": [
    {
     "data": {
      "image/png": "[encoded data removed]",
      "text/latex": [
       "$\\displaystyle \\sum_{i=1}^{n} \\left(\\log{\\left(p \\right)} + \\log{\\left(1 - p \\right)} {x}_{i}\\right)$"
      ],
      "text/plain": [
       "  n                             \n",
       " ___                            \n",
       " ╲                              \n",
       "  ╲                             \n",
       "  ╱   (log(p) + log(1 - p)⋅x[i])\n",
       " ╱                              \n",
       " ‾‾‾                            \n",
       "i = 1                           "
      ]
     },
     "execution_count": 11,
     "metadata": {},
     "output_type": "execute_result"
    }
   ],
   "source": [
    "LL = Sum(lf, (i,1,n))\n",
    "LL"
   ]
  },
  {
   "cell_type": "markdown",
   "metadata": {},
   "source": [
    "## Estimativa de máxima verossimilhança (mle)\n",
    "O mle é o valor do parâmetro $p$ que maximiza a função de log-verossimilhança (ou minimiza a de log-verossimilhança negativa). Sabemos que as funções têm derivadas zero em seus pontos máximos e mínimos.\n",
    "Então o truque para achar a expressão do mle é encontrar a expressão para o valor de $p$\n",
    "que faz a derivada da função de log-verossimilhança ser igual a zero. São duas etapas:\n",
    "\n",
    "### Calcule a derivada da função de log-verossimlhança em relação ao parâmetro\n",
    "Aqui usamos o comando 'diff' para obter a derivada da log-verossimilhança em função do parâmetro $p$. Para isso, aplicamos este comando sobre o objeto `LL`, criado acima, e guardamos a expressão resultante no objeto `dLL` :"
   ]
  },
  {
   "cell_type": "code",
   "execution_count": 12,
   "metadata": {},
   "outputs": [
    {
     "data": {
      "image/png": "[encoded data removed]",
      "text/latex": [
       "$\\displaystyle \\frac{n}{p} + \\frac{\\sum_{i=1}^{n} {x}_{i}}{p - 1}$"
      ],
      "text/plain": [
       "      n       \n",
       "     ___      \n",
       "     ╲        \n",
       "      ╲       \n",
       "      ╱   x[i]\n",
       "     ╱        \n",
       "     ‾‾‾      \n",
       "n   i = 1     \n",
       "─ + ──────────\n",
       "p     p - 1   "
      ]
     },
     "execution_count": 12,
     "metadata": {},
     "output_type": "execute_result"
    }
   ],
   "source": [
    "dLL = diff(LL,p)\n",
    "dLL=simplify(expand(dLL))\n",
    "dLL"
   ]
  },
  {
   "cell_type": "markdown",
   "metadata": {},
   "source": [
    "### Resolvemos a derivada para o parâmetro\n",
    "Agora igualamos a derivada da função de log-verossimilhança a zero e resolvemos esta equação para o parãmetro $p$:"
   ]
  },
  {
   "cell_type": "code",
   "execution_count": 13,
   "metadata": {},
   "outputs": [
    {
     "data": {
      "image/png": "[encoded data removed]",
      "text/latex": [
       "$\\displaystyle \\left[ \\frac{n}{n + \\sum_{i=1}^{n} {x}_{i}}\\right]$"
      ],
      "text/plain": [
       "⎡      n       ⎤\n",
       "⎢──────────────⎥\n",
       "⎢      n       ⎥\n",
       "⎢     ___      ⎥\n",
       "⎢     ╲        ⎥\n",
       "⎢      ╲       ⎥\n",
       "⎢n +   ╱   x[i]⎥\n",
       "⎢     ╱        ⎥\n",
       "⎢     ‾‾‾      ⎥\n",
       "⎣    i = 1     ⎦"
      ]
     },
     "execution_count": 13,
     "metadata": {},
     "output_type": "execute_result"
    }
   ],
   "source": [
    "solve(dLL,p)"
   ]
  },
  {
   "cell_type": "markdown",
   "metadata": {},
   "source": [
    "Esta é a expressão do estimador de máxima verossimilhança do único parâmetro da distribuição geométrica. "
   ]
  }
 ],
 "metadata": {
  "kernelspec": {
   "display_name": "Python 3 (ipykernel)",
   "language": "python",
   "name": "python3"
  },
  "language_info": {
   "codemirror_mode": {
    "name": "ipython",
    "version": 3
   },
   "file_extension": ".py",
   "mimetype": "text/x-python",
   "name": "python",
   "nbconvert_exporter": "python",
   "pygments_lexer": "ipython3",
   "version": "3.12.7"
  }
 },
 "nbformat": 4,
 "nbformat_minor": 4
}
