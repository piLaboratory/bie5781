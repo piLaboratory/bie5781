{
 "cells": [
  {
   "cell_type": "markdown",
   "metadata": {},
   "source": [
    "# Estimador de máxima verossimilhança da distribuição Poisson\n",
    "Neste notebook do Jupyter vamos demonstrar a dedução matemática do estimador de máxima verossimilhança do parâmetro da distribuição Poisson. Para ver os resultados dos comandos de cada etapa coloque o mouse ao lado esquerdo da célula que tem os comandos e clique em 'Run this cell'\n",
    "## Preparação\n",
    "Antes de começar importamos a biblioteca de matemática simbólica do Python. Ela permite criar expressões, como funções e suas derivadas, e manipulá-las simbolicamente."
   ]
  },
  {
   "cell_type": "code",
   "execution_count": 17,
   "metadata": {},
   "outputs": [],
   "source": [
    "from sympy import *\n",
    "init_printing()"
   ]
  },
  {
   "cell_type": "markdown",
   "metadata": {},
   "source": [
    "## A função de densidade probabilística\n",
    "Para uma dada observação $x_i$ a função de massa da distribuição Poisson é"
   ]
  },
  {
   "cell_type": "code",
   "execution_count": 18,
   "metadata": {},
   "outputs": [
    {
     "data": {
      "image/png": "[encoded data removed]",
      "text/latex": [
       "$\\displaystyle \\frac{\\lambda^{{x}_{i}} e^{- \\lambda}}{{x}_{i}!}$"
      ],
      "text/plain": [
       "       x[i]  -\\lambda\n",
       "\\lambda    ⋅ℯ        \n",
       "─────────────────────\n",
       "       (x[i])!       "
      ]
     },
     "execution_count": 18,
     "metadata": {},
     "output_type": "execute_result"
    }
   ],
   "source": [
    "x, L, i, n = symbols('x \\lambda i n')\n",
    "f = L**(Indexed(x,i))*exp(-L)*1/factorial(Indexed(x,i))\n",
    "f"
   ]
  },
  {
   "cell_type": "markdown",
   "metadata": {},
   "source": [
    "## Defina a função de log-verossimilhança negativa\n",
    "É a soma dos logarítimos dos valores da função acima sobre todos os valores dos dados ($x_i$). Primeiro calculamos o logarítmo da função de massa:"
   ]
  },
  {
   "cell_type": "code",
   "execution_count": 19,
   "metadata": {},
   "outputs": [
    {
     "data": {
      "image/png": "[encoded data removed]",
      "text/latex": [
       "$\\displaystyle - \\lambda + \\log{\\left(\\lambda \\right)} {x}_{i} - \\log{\\left({x}_{i}! \\right)}$"
      ],
      "text/plain": [
       "-\\lambda + log(\\lambda)⋅x[i] - log((x[i])!)"
      ]
     },
     "execution_count": 19,
     "metadata": {},
     "output_type": "execute_result"
    }
   ],
   "source": [
    "lf = ln(f)\n",
    "lf=expand_log(lf, force=true)\n",
    "lf"
   ]
  },
  {
   "cell_type": "markdown",
   "metadata": {},
   "source": [
    "e em seguida definimos a sua soma sobre todos os valores de $x_i$"
   ]
  },
  {
   "cell_type": "code",
   "execution_count": 20,
   "metadata": {},
   "outputs": [
    {
     "data": {
      "image/png": "[encoded data removed]",
      "text/latex": [
       "$\\displaystyle - \\lambda \\sum_{i=1}^{n} 1 + \\sum_{i=1}^{n} \\left(\\log{\\left(\\lambda \\right)} {x}_{i} - \\log{\\left({x}_{i}! \\right)}\\right)$"
      ],
      "text/plain": [
       "            n         n                                     \n",
       "           ___       ___                                    \n",
       "           ╲         ╲                                      \n",
       "            ╲         ╲                                     \n",
       "- \\lambda⋅  ╱   1 +   ╱   (log(\\lambda)⋅x[i] - log((x[i])!))\n",
       "           ╱         ╱                                      \n",
       "           ‾‾‾       ‾‾‾                                    \n",
       "          i = 1     i = 1                                   "
      ]
     },
     "execution_count": 20,
     "metadata": {},
     "output_type": "execute_result"
    }
   ],
   "source": [
    "LL = Sum(lf, (i,1,n))\n",
    "LL=simplify(LL)\n",
    "LL"
   ]
  },
  {
   "cell_type": "markdown",
   "metadata": {},
   "source": [
    "O somatório $\\sum_{i=1}^n 1$ nada mais é que $n$. Substituímos isto na função obtida acima temos a função de log-verossimilhança:"
   ]
  },
  {
   "cell_type": "code",
   "execution_count": 21,
   "metadata": {},
   "outputs": [
    {
     "data": {
      "image/png": "[encoded data removed]",
      "text/latex": [
       "$\\displaystyle - \\lambda n + \\sum_{i=1}^{n} \\left(\\log{\\left(\\lambda \\right)} {x}_{i} - \\log{\\left({x}_{i}! \\right)}\\right)$"
      ],
      "text/plain": [
       "               n                                     \n",
       "              ___                                    \n",
       "              ╲                                      \n",
       "               ╲                                     \n",
       "-\\lambda⋅n +   ╱   (log(\\lambda)⋅x[i] - log((x[i])!))\n",
       "              ╱                                      \n",
       "              ‾‾‾                                    \n",
       "             i = 1                                   "
      ]
     },
     "execution_count": 21,
     "metadata": {},
     "output_type": "execute_result"
    }
   ],
   "source": [
    "g=Sum(1, (i,1,n))\n",
    "LL=LL.subs(g,n)      \n",
    "LL"
   ]
  },
  {
   "cell_type": "markdown",
   "metadata": {},
   "source": [
    "## Estimativa de máxima verossimilhança (mle)\n",
    "É o valor do parâmetro $\\lambda$ que maximiza a função de log-verossimilhança (ou minimiza a de log-verossimilhança negativa). Sabemos que as funções têm derivadas zero em seus pontos máximos e mínimos.\n",
    "Então o truque para achar a expressão do mle é encontrar a expressão para o valor de $\\lambda$\n",
    "que faz a derivada da função de log-verossimilhança ser igual a zero. São duas etapas:\n",
    "\n",
    "### Calcule a derivada da função de log-verossimlhança em relação ao parâmetro\n",
    "Antes de calcular a derivada temos que substituir o fatorial $x_i!$ pela sua expressão contínua $\\Gamma (x_i+1)$"
   ]
  },
  {
   "cell_type": "code",
   "execution_count": 22,
   "metadata": {},
   "outputs": [
    {
     "data": {
      "image/png": "[encoded data removed]",
      "text/latex": [
       "$\\displaystyle - \\lambda n + \\sum_{i=1}^{n} \\left(\\log{\\left(\\lambda \\right)} {x}_{i} - \\log{\\left(\\Gamma\\left({x}_{i} + 1\\right) \\right)}\\right)$"
      ],
      "text/plain": [
       "               n                                         \n",
       "              ___                                        \n",
       "              ╲                                          \n",
       "               ╲                                         \n",
       "-\\lambda⋅n +   ╱   (log(\\lambda)⋅x[i] - log(Γ(x[i] + 1)))\n",
       "              ╱                                          \n",
       "              ‾‾‾                                        \n",
       "             i = 1                                       "
      ]
     },
     "execution_count": 22,
     "metadata": {},
     "output_type": "execute_result"
    }
   ],
   "source": [
    "LL=simplify(LL)\n",
    "LL"
   ]
  },
  {
   "cell_type": "markdown",
   "metadata": {},
   "source": [
    "E agora usamos o comando 'diff' para obter a derivada da log-verossimilhança em função do parâmetro $\\lambda$:"
   ]
  },
  {
   "cell_type": "code",
   "execution_count": 23,
   "metadata": {},
   "outputs": [
    {
     "data": {
      "image/png": "[encoded data removed]",
      "text/latex": [
       "$\\displaystyle - n + \\frac{\\sum_{i=1}^{n} {x}_{i}}{\\lambda}$"
      ],
      "text/plain": [
       "       n       \n",
       "      ___      \n",
       "      ╲        \n",
       "       ╲       \n",
       "       ╱   x[i]\n",
       "      ╱        \n",
       "      ‾‾‾      \n",
       "     i = 1     \n",
       "-n + ──────────\n",
       "      \\lambda  "
      ]
     },
     "execution_count": 23,
     "metadata": {},
     "output_type": "execute_result"
    }
   ],
   "source": [
    "dLL = diff(LL,L)\n",
    "dLL=simplify(expand(dLL))\n",
    "dLL"
   ]
  },
  {
   "cell_type": "markdown",
   "metadata": {},
   "source": [
    "### Resolvemos a derivada para o parâmetro\n",
    "Agora igualamos a derivada da função de log-verossimilhança negativa a zero e resolvemos esta equação para o parãmetro $\\lambda$:"
   ]
  },
  {
   "cell_type": "code",
   "execution_count": 24,
   "metadata": {},
   "outputs": [
    {
     "data": {
      "image/png": "[encoded data removed]",
      "text/latex": [
       "$\\displaystyle \\left[ \\frac{\\sum_{i=1}^{n} {x}_{i}}{n}\\right]$"
      ],
      "text/plain": [
       "⎡  n       ⎤\n",
       "⎢ ___      ⎥\n",
       "⎢ ╲        ⎥\n",
       "⎢  ╲       ⎥\n",
       "⎢  ╱   x[i]⎥\n",
       "⎢ ╱        ⎥\n",
       "⎢ ‾‾‾      ⎥\n",
       "⎢i = 1     ⎥\n",
       "⎢──────────⎥\n",
       "⎣    n     ⎦"
      ]
     },
     "execution_count": 24,
     "metadata": {},
     "output_type": "execute_result"
    }
   ],
   "source": [
    "solve(dLL,L)"
   ]
  },
  {
   "cell_type": "markdown",
   "metadata": {},
   "source": [
    "Que nada mais é que a média amostral!"
   ]
  }
 ],
 "metadata": {
  "kernelspec": {
   "display_name": "Python 3 (ipykernel)",
   "language": "python",
   "name": "python3"
  },
  "language_info": {
   "codemirror_mode": {
    "name": "ipython",
    "version": 3
   },
   "file_extension": ".py",
   "mimetype": "text/x-python",
   "name": "python",
   "nbconvert_exporter": "python",
   "pygments_lexer": "ipython3",
   "version": "3.10.8"
  }
 },
 "nbformat": 4,
 "nbformat_minor": 4
}
