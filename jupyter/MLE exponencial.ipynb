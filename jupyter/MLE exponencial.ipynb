{
 "cells": [
  {
   "cell_type": "markdown",
   "metadata": {},
   "source": [
    "# Estimador de máxima verossimilhança da distribuição exponencial\n",
    "Neste notebook do Jupyter vamos demonstrar a dedução matemática do estimador de máxima verossimilhança do parâmetro da distribuição exponencial. Para ver os resultados dos comandos de cada etapa coloque o mouse ao lado esquerdo da célula que tem os comandos e clique em 'Run this cell'\n",
    "## Preparação\n",
    "Antes de começar importamos a biblioteca de matemática simbólica do Python. Ela permite criar expressões, como funções e suas derivadas, e manipulá-las simbolicamente."
   ]
  },
  {
   "cell_type": "code",
   "execution_count": null,
   "metadata": {},
   "outputs": [],
   "source": [
    "from sympy import *\n",
    "init_printing()"
   ]
  },
  {
   "cell_type": "markdown",
   "metadata": {},
   "source": [
    "## A função de densidade probabilística\n",
    "Para uma dada observação $x_i$ a função de densidade probabilística da distribuição exponecial é $\\lambda e^{-\\lambda x_i}$. Os comandos abaixo criam um objeto chamado `f` no Python, com a expressão simbólica dessa função matemática, para que possa ser manipulada:"
   ]
  },
  {
   "cell_type": "code",
   "execution_count": null,
   "metadata": {},
   "outputs": [],
   "source": [
    "## define os nomes dos símbolos que usaremos e como serão exibidos\n",
    "x, L, i, n = symbols( 'x lambda i n' )\n",
    "## Cria o objeto f com a expressão da densidade da exponencial\n",
    "f = L*exp( -L*Indexed(x,i) )\n",
    "## Exibe a expressão simbólica do objeto\n",
    "f"
   ]
  },
  {
   "cell_type": "markdown",
   "metadata": {},
   "source": [
    "## Defina a função de log-verossimilhança negativa\n",
    "Agora podemos manipular matematicamente as expressão que criamos. Começamos usando-a para definir a função de log-verossimilhança negativa, que é a soma dos logarítimos dos valores da função acima sobre todos os valores dos dados ($x_i$). Primeiro aplicamos o logarítmo sobre função de densidade probabilística, e guardamos a expressão resultante no objeto `lf`"
   ]
  },
  {
   "cell_type": "code",
   "execution_count": null,
   "metadata": {},
   "outputs": [],
   "source": [
    "## Aplica o log \n",
    "lf = ln(f)\n",
    "## Expande log de produtos em somas\n",
    "lf = expand_log(lf, force=true)\n",
    "## Exibe a expressão resultante\n",
    "lf"
   ]
  },
  {
   "cell_type": "markdown",
   "metadata": {},
   "source": [
    "e em seguida definimos a sua soma sobre todos os valores de $x_i$, que guardamos no objeto `LL'. Esta é a expressão da função de log-verossimilhança da distribuição de probabilidade exponencial:"
   ]
  },
  {
   "cell_type": "code",
   "execution_count": null,
   "metadata": {},
   "outputs": [],
   "source": [
    "LL = Sum(lf, (i,1,n))\n",
    "LL=simplify(LL)\n",
    "LL"
   ]
  },
  {
   "cell_type": "markdown",
   "metadata": {},
   "source": [
    "Vamos fazer mais uma manipulação para tornar os próximos passos mais simples O somatório $\\sum_{i=1}^n 1$ nada mais é que $n$. Substituímos isto na função obtida acima temos a expressão da função de log-verossimilhança em sau forma mais conhecida. Guardamos essa expressão no objeto `LL` :"
   ]
  },
  {
   "cell_type": "code",
   "execution_count": null,
   "metadata": {},
   "outputs": [],
   "source": [
    "g = Sum(1, (i,1,n))\n",
    "LL = LL.subs(g,n)      \n",
    "LL"
   ]
  },
  {
   "cell_type": "markdown",
   "metadata": {},
   "source": [
    "## Estimativa de máxima verossimilhança (mle)\n",
    "O MLE é  o valor do parâmetro $\\lambda$ que maximiza a função de log-verossimilhança (ou minimiza a de log-verossimilhança negativa). Sabemos que as funções têm derivadas zero em seus pontos máximos e mínimos.\n",
    "Então o truque para achar a expressão do mle é encontrar a expressão para o valor de $\\lambda$\n",
    "que faz a derivada da função de log-verossimilhança ser igual a zero. São duas etapas:\n",
    "\n",
    "### Calcule a derivada da função de log-verossimlhança em relação ao parâmetro\n"
   ]
  },
  {
   "cell_type": "markdown",
   "metadata": {},
   "source": [
    "Usamos o comando `diff` aplicado ao objeto `LL` para obter a derivada da log-verossimilhança em função do parâmetro $\\lambda$:"
   ]
  },
  {
   "cell_type": "code",
   "execution_count": null,
   "metadata": {},
   "outputs": [],
   "source": [
    "## Derivada da função LL em relação a lambda\n",
    "dLL = diff(LL,L)\n",
    "## Simplifica a expressão\n",
    "dLL = simplify( expand(dLL) )\n",
    "## Exibe o resultado\n",
    "dLL"
   ]
  },
  {
   "cell_type": "markdown",
   "metadata": {},
   "source": [
    "### Resolvemos a derivada para o parâmetro\n",
    "Agora igualamos a derivada da função de log-verossimilhança a zero e resolvemos esta equação para o parâmetro $\\lambda$. Essa operção simbólica é feita com o comando `solve`, aplicado ao objeto `dLL` , em que guardamos a derivada da função de log-verossimilhança:"
   ]
  },
  {
   "cell_type": "code",
   "execution_count": null,
   "metadata": {},
   "outputs": [],
   "source": [
    "solve(dLL,L)"
   ]
  },
  {
   "cell_type": "markdown",
   "metadata": {},
   "source": [
    "Ou seja, a estimativa de máxima verossimilhança do único parâmetro da distribuição ($\\lambda$) exponencial é o inverso da média amostral."
   ]
  },
  {
   "cell_type": "code",
   "execution_count": null,
   "metadata": {},
   "outputs": [],
   "source": []
  }
 ],
 "metadata": {
  "kernelspec": {
   "display_name": "Python 3 (ipykernel)",
   "language": "python",
   "name": "python3"
  },
  "language_info": {
   "codemirror_mode": {
    "name": "ipython",
    "version": 3
   },
   "file_extension": ".py",
   "mimetype": "text/x-python",
   "name": "python",
   "nbconvert_exporter": "python",
   "pygments_lexer": "ipython3",
   "version": "3.12.7"
  }
 },
 "nbformat": 4,
 "nbformat_minor": 4
}
