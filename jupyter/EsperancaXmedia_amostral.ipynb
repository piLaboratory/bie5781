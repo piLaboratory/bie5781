{
 "cells": [
  {
   "cell_type": "markdown",
   "id": "22119bb5-cbb4-4959-992d-f27af97d50b5",
   "metadata": {},
   "source": [
    "# Esperança e média amostral"
   ]
  },
  {
   "cell_type": "markdown",
   "id": "34ada073-882b-48d1-9859-281574555f99",
   "metadata": {},
   "source": [
    "É muito importante distinguir esperança e variância, que são propriedades de distribuições de probabilidade, de médias e variâncias calculadas de amostras.\n",
    "\n",
    "Para entender isso, vamos criar um modelo de distribuição de probabilidades para o número de fêmeas em ninhadas do Sagui *Callithrix jacchus*. As premissas de nosso modelo são:\n",
    "\n",
    "1. Cada ninhada tem 2 filhotes;\n",
    "2. Mesma chance de cada filhote ser macho ou fêmea;\n",
    "3. Atribuição de sexo de cada filhote é independente dos demais.\n",
    "\n",
    "Portanto, o espaço amostral de nossa variável discreta \"número de fêmeas na ninhada\" ($X$) é:\n",
    "\n",
    "$S \\, = \\, \\{0, \\,1, \\, 2\\}$\n",
    "\n",
    "E a distribuição de probabilidades  é a função $f(x)$, que associa um valor de probabilidade a cada um dos valores do conjunto $S$:\n",
    "\n",
    "$f(0) = P(X=0) = \\frac{1}{4}$\n",
    "\n",
    "$f(1) = P(X=1) = \\frac{1}{2}$\n",
    "\n",
    "$f(2) = P(X=2) = \\frac{1}{4} $\n",
    "      \n",
    "## Esperança da distribuição\n",
    "A esperança de uma distribuição de probabilidades discreta, como nosso modelo, é:\n",
    "\n",
    "$$\n",
    "        E{X} = \\sum_{x\\in S} x\\, f(x)\n",
    "        \\, = \\,  \\sum_{x\\in S} x\\, P(X=x) \n",
    "$$\n",
    "\n",
    "Vamos calculá-la usando o R. Primeiro criamos um objeto com o espaço amostral da distribuição (ou seja, todos os valores possíveis para a variávei $X$):"
   ]
  },
  {
   "cell_type": "code",
   "execution_count": 41,
   "id": "62cb87e1-541f-432e-a5df-6c00a751f01f",
   "metadata": {},
   "outputs": [],
   "source": [
    "## Espaco amostral: numero possivel de fêmeas, em ninhadas de 2 filhotes\n",
    "S <- c(0, 1, 2)"
   ]
  },
  {
   "cell_type": "markdown",
   "id": "b762f954-2e68-4df1-ab98-3de5bd7a8127",
   "metadata": {},
   "source": [
    "Em seguida criamos um objeto com as probabilidades associadas com  cada valor do espaço amostral, de acordo com nosso modelo:"
   ]
  },
  {
   "cell_type": "code",
   "execution_count": 42,
   "id": "d4603ccf-e55b-4ed1-af5e-d41a5f486d10",
   "metadata": {},
   "outputs": [],
   "source": [
    "pS <- c(0.25, 0.5, 0.25)"
   ]
  },
  {
   "cell_type": "markdown",
   "id": "e5c1b58a-573a-41d5-abe8-47e9373a8b67",
   "metadata": {},
   "source": [
    "Obtemos a esperança da distribuição multiplicando cada valor do espaço amostral pela probabilidade atribuída a ele, e em seguida somamos todos estes valores:"
   ]
  },
  {
   "cell_type": "code",
   "execution_count": 43,
   "id": "7299837d-82e0-48c7-a374-b417ef558afe",
   "metadata": {},
   "outputs": [
    {
     "data": {
      "text/html": [
       "1"
      ],
      "text/latex": [
       "1"
      ],
      "text/markdown": [
       "1"
      ],
      "text/plain": [
       "[1] 1"
      ]
     },
     "metadata": {},
     "output_type": "display_data"
    }
   ],
   "source": [
    "## Multiplica cada elemento por sua probabilidade\n",
    "SxpS <- S * pS\n",
    "## Esperança:\n",
    "(Esp <- sum( SxpS))"
   ]
  },
  {
   "cell_type": "markdown",
   "id": "805aae46-a536-436e-a172-d12947184051",
   "metadata": {},
   "source": [
    "Ou seja, o valor esperado desta distribuição é de uma fêmea por ninhada."
   ]
  },
  {
   "cell_type": "markdown",
   "id": "4c940899-1a41-4c7b-af8e-1b14920dc809",
   "metadata": {
    "editable": true,
    "slideshow": {
     "slide_type": ""
    },
    "tags": []
   },
   "source": [
    "## Média amostral\n",
    "Embora possamos chamar a esperança de uma distribuição de média, ela não é o mesmo que a média que calculamos de uma amostra. Vamos exemplificar isso simulando amostras tomadas de nossa distribuição. Começamos simulando uma amostra de dez ninhadas. "
   ]
  },
  {
   "cell_type": "code",
   "execution_count": 44,
   "id": "a01c6955-540a-410a-91e6-3ca28190ca4d",
   "metadata": {},
   "outputs": [
    {
     "data": {
      "text/html": [
       "<style>\n",
       ".list-inline {list-style: none; margin:0; padding: 0}\n",
       ".list-inline>li {display: inline-block}\n",
       ".list-inline>li:not(:last-child)::after {content: \"\\00b7\"; padding: 0 .5ex}\n",
       "</style>\n",
       "<ol class=list-inline><li>0</li><li>2</li><li>1</li><li>0</li><li>0</li><li>1</li><li>0</li><li>2</li><li>0</li><li>2</li></ol>\n"
      ],
      "text/latex": [
       "\\begin{enumerate*}\n",
       "\\item 0\n",
       "\\item 2\n",
       "\\item 1\n",
       "\\item 0\n",
       "\\item 0\n",
       "\\item 1\n",
       "\\item 0\n",
       "\\item 2\n",
       "\\item 0\n",
       "\\item 2\n",
       "\\end{enumerate*}\n"
      ],
      "text/markdown": [
       "1. 0\n",
       "2. 2\n",
       "3. 1\n",
       "4. 0\n",
       "5. 0\n",
       "6. 1\n",
       "7. 0\n",
       "8. 2\n",
       "9. 0\n",
       "10. 2\n",
       "\n",
       "\n"
      ],
      "text/plain": [
       " [1] 0 2 1 0 0 1 0 2 0 2"
      ]
     },
     "metadata": {},
     "output_type": "display_data"
    }
   ],
   "source": [
    "## Uma amostra de dez ninhadas, que seguem nossa distribuição\n",
    "(amostra1 <- sample( x = S, size = 10, replace = TRUE, prob = pS))"
   ]
  },
  {
   "cell_type": "markdown",
   "id": "c56f5b1c-30c5-4cd3-8a9f-ef4565179480",
   "metadata": {},
   "source": [
    "E calculamos a média desta amostra:"
   ]
  },
  {
   "cell_type": "code",
   "execution_count": 45,
   "id": "27db120f-c44f-4674-944d-f51ae561d9fd",
   "metadata": {},
   "outputs": [
    {
     "data": {
      "text/html": [
       "0.8"
      ],
      "text/latex": [
       "0.8"
      ],
      "text/markdown": [
       "0.8"
      ],
      "text/plain": [
       "[1] 0.8"
      ]
     },
     "metadata": {},
     "output_type": "display_data"
    }
   ],
   "source": [
    "## Media amostral\n",
    "mean(amostra1)"
   ]
  },
  {
   "cell_type": "markdown",
   "id": "8e3519b1-da77-42e4-9189-1d7f2369850b",
   "metadata": {},
   "source": [
    "O valor da média amostral não necessariamente corresponde ao valor teórico da esperança. Mais do que isso, a média amostral varia a cada amostragem. Você pode verificar isso repetindo os comandos acima. Portanto, a média amostral **é uma variável aleatória**.\n",
    "\n",
    "Ainda assim, a média amostral é um **estimador** da média da distribuição que gera os dados. Sob certas condiçẽos (como uma amostragem aleatória do processo que gera os dados), esse estimador terá, em média, o valor da esperança. \n",
    "\n",
    "Vamos verificar isso simulando mil amostras de dez ninhadas cada uma. Calculamos a média de cada uma destas amostras, e vamos inspecionar a distribuição destes valores com um histograma:\n"
   ]
  },
  {
   "cell_type": "code",
   "execution_count": 46,
   "id": "9c1149b4-e9a2-42ac-9c5e-b0a651f39d86",
   "metadata": {},
   "outputs": [
    {
     "data": {
      "image/png": "[encoded data removed]",
      "text/plain": [
       "Plot with title “N médio de fêmeas em 10 ninhadas (1000 repetições)”"
      ]
     },
     "metadata": {
      "image/png": {
       "height": 420,
       "width": 420
      }
     },
     "output_type": "display_data"
    }
   ],
   "source": [
    "medias <- c() # cria vetor vazio\n",
    "## Loop que simula as amostras e calcula suas medias\n",
    "for(i in 1:1000){\n",
    "    ## Simula a amostra\n",
    "    amostra <- sample( x = S, size = 10, replace = TRUE, prob = pS)\n",
    "    ## Calcula a media amostral e guarda na i-esima posicao do vetor de resultados\n",
    "    medias[i] <- mean(amostra)\n",
    "}\n",
    "\n",
    "## Histograma das 1000 medias\n",
    "hist(medias,\n",
    "     xlab = \"Média amostral\", ylab = \"Frequência\",\n",
    "     main = \"N médio de fêmeas em 10 ninhadas (1000 repetições)\")\n",
    "## Adiciona o valor da Esperanca da distribuicao\n",
    "abline(v = Esp, lty =2, col = \"darkblue\", lwd=4)"
   ]
  },
  {
   "cell_type": "markdown",
   "id": "f69b6da3-06a7-46be-b726-be439f18fa42",
   "metadata": {},
   "source": [
    "O histograma mostra que neste conjunto de mil médias amostrais valores mais próximos da esperança teórica foram mais frequentes. De fato, a média dessas médias está bem próxima da esperança teórica, indicado no histograma pela linha vertical azul. \n",
    "\n",
    "Podemos também calcular  a média das mil médias amostrais com:"
   ]
  },
  {
   "cell_type": "code",
   "execution_count": 47,
   "id": "b6514579-6ca5-4658-9da1-9b48b8fe887f",
   "metadata": {},
   "outputs": [
    {
     "data": {
      "text/html": [
       "0.9883"
      ],
      "text/latex": [
       "0.9883"
      ],
      "text/markdown": [
       "0.9883"
      ],
      "text/plain": [
       "[1] 0.9883"
      ]
     },
     "metadata": {},
     "output_type": "display_data"
    }
   ],
   "source": [
    "mean(medias)"
   ]
  },
  {
   "cell_type": "markdown",
   "id": "ed502e49-4e9a-4858-bb66-1b0fdcbde7a8",
   "metadata": {},
   "source": [
    "## Em resumo\n",
    "\n",
    "- Esperança e variância são propriedades de distribuições de probabilidades. Uma vez definida uma distribuição, essas propriedades não mudam;\n",
    "- Médias e variâncias amostrais são variáveis aleatórias, cujos valores variam a cada amostragem;\n",
    "- A média da distribuição das médias e variâncias amostrais podem ser usadas para estimar a esperança e a variância do processo probabilístico que gera os dados."
   ]
  }
 ],
 "metadata": {
  "kernelspec": {
   "display_name": "R",
   "language": "R",
   "name": "ir"
  },
  "language_info": {
   "codemirror_mode": "r",
   "file_extension": ".r",
   "mimetype": "text/x-r-source",
   "name": "R",
   "pygments_lexer": "r",
   "version": "4.4.1"
  }
 },
 "nbformat": 4,
 "nbformat_minor": 5
}
